{
 "cells": [
  {
   "cell_type": "markdown",
   "metadata": {},
   "source": [
    "#CIFAR-10: Object Recognition in Images Tutorial\n",
    "\n",
    "##Synopsis\n",
    "The CIFAR-10 dataset consists of 60,000 labeled images. Therea are a total of 10 classes and each image is 32x32 pixels. The original data can be found [here](https://www.cs.toronto.edu/~kriz/cifar.html). Alternatively, one can download a more friendly version from the Kaggle website located [here](https://www.kaggle.com/c/cifar-10). It was collected by Alex Krizhevsky, Vinod Nair, and Geoffrey Hinton [[1]](http://www.cs.toronto.edu/~kriz/learning-features-2009-TR.pdf). The objective of this tutorial is to accurately classify the 50,000 training png images via convoloutional neural nets and check the misclassification error against the test set of 10,000. If you are downloading the version from Kaggle please read the fine print. They have added 290,000 \"junk\" images to prevent hand-labeling. These are ignored during the scoring process. Therefore, we will be submitting ther results to the Kaggle leaderboard instead of manually calculating the error on the test set."
   ]
  },
  {
   "cell_type": "markdown",
   "metadata": {},
   "source": [
    "##Downloading and Loading Data\n",
    "1\\. Let's first download and unzip the training and testing datasets from Kaggle.\n",
    "\n",
    "*Note: In order to install the **PIL** module you might simply run \"**pip install PIL**\" from command line or the extended version of the command \"**pip install PIL --allow-external PIL --allow-unverified PIL**\". Documentation for the second version of the command can be found [here](http://stackoverflow.com/questions/21242107/pip-install-pil-dont-install-into-virtualenv)*"
   ]
  },
  {
   "cell_type": "code",
   "execution_count": 1,
   "metadata": {
    "collapsed": true
   },
   "outputs": [],
   "source": [
    "from PIL import Image\n",
    "import sys\n",
    "import os\n",
    "import urllib\n",
    "import zipfile\n",
    "import webbrowser"
   ]
  },
  {
   "cell_type": "code",
   "execution_count": 2,
   "metadata": {
    "collapsed": true
   },
   "outputs": [],
   "source": [
    "###FIX add script to download http://ramhiser.com/2012/11/23/how-to-download-kaggle-data-with-python-and-requests-dot-py/\n",
    "\n",
    "def download_file(url):\n",
    "    # Split on the rightmost / and take everything on the right side of that\n",
    "    filename = url.rsplit('/', 1)[-1]\n",
    "    \n",
    "    #download file    \n",
    "    if not os.path.isfile(filename):\n",
    "        urllib.urlretrieve(url,filename)\n",
    "        \n",
    "        #unzip if it is a zip file\n",
    "        if url.find(\".7z\") > 0:\n",
    "            with zipfile.Zipfile(filename,\"r\") as z:\n",
    "                z.extractall()"
   ]
  },
  {
   "cell_type": "markdown",
   "metadata": {},
   "source": [
    "*Please be patient while the code below runs as you are downloading a large amount of data (~700MB).*"
   ]
  },
  {
   "cell_type": "code",
   "execution_count": 7,
   "metadata": {
    "collapsed": false
   },
   "outputs": [],
   "source": [
    "urls = [\"https://www.kaggle.com/c/cifar-10/download/test.7z\", \"https://www.kaggle.com/c/cifar-10/download/train.7z\",\n",
    "    \"https://www.kaggle.com/c/cifar-10/download/trainLabels.csv\"]\n",
    "for url in urls:\n",
    "    download_file(url)"
   ]
  },
  {
   "cell_type": "markdown",
   "metadata": {},
   "source": [
    "2\\. We will convert the downloaded png files to csv by reading in the red-blue-green values with a helpful [script](https://github.com/chrispy645/kaggle-cifar10-extract/blob/master/getpx.py) created by Christopher Beckham."
   ]
  },
  {
   "cell_type": "markdown",
   "metadata": {},
   "source": [
    "  * Read in training labels by splitting each row based on comma and selecting the second item in the returned list (i.e. the actual label)."
   ]
  },
  {
   "cell_type": "code",
   "execution_count": 3,
   "metadata": {
    "collapsed": false
   },
   "outputs": [],
   "source": [
    "labels = []\n",
    "f = open(\"trainLabels.csv\")\n",
    "for line in f:\n",
    "    labels.append( '\"' + line.rstrip().split(',')[1] + '\"' )\n",
    "f.close()"
   ]
  },
  {
   "cell_type": "markdown",
   "metadata": {},
   "source": [
    "  * Each image will contain 32x32 pixels. Create a list of column names to store the rgb value of each of those 32x32 pixels. "
   ]
  },
  {
   "cell_type": "code",
   "execution_count": 4,
   "metadata": {
    "collapsed": false
   },
   "outputs": [],
   "source": [
    "arr = []\n",
    "for i in range(0,32*32):\n",
    "    for j in ['r','g','b']:\n",
    "        arr.append('\"px' + j + str(i) + '\"')\n",
    "arr.append('\"class\"')\n",
    "#print \",\".join(arr)"
   ]
  },
  {
   "cell_type": "markdown",
   "metadata": {},
   "source": [
    "  * Read in the training data"
   ]
  },
  {
   "cell_type": "code",
   "execution_count": 5,
   "metadata": {
    "collapsed": false
   },
   "outputs": [],
   "source": [
    "csv = []\n",
    "for x in range(1, 50000+1): #50000+1\n",
    "    im = Image.open('train/' + str(x) + '.png')\n",
    "\n",
    "    #Open an image (only try after adjusting range to range(1,2+1) )\n",
    "    #webbrowser.open('train\\\\' + str(x) + '.png')\n",
    " \n",
    "    arr = []\n",
    "    for i in range(0, 32):\n",
    "        for j in range(0, 32):\n",
    "            tp = im.getpixel((i,j))\n",
    "            arr.append( str(tp[0]) )\n",
    "            arr.append( str(tp[1]) )\n",
    "            arr.append( str(tp[2]) )\n",
    "\n",
    "    #print \",\".join(arr) + \",\" + labels[x]\n",
    "    #len(arr)==32*32*3"
   ]
  },
  {
   "cell_type": "code",
   "execution_count": 16,
   "metadata": {
    "collapsed": false
   },
   "outputs": [
    {
     "data": {
      "text/plain": [
       "3072"
      ]
     },
     "execution_count": 16,
     "metadata": {},
     "output_type": "execute_result"
    }
   ],
   "source": []
  },
  {
   "cell_type": "code",
   "execution_count": 14,
   "metadata": {
    "collapsed": false
   },
   "outputs": [
    {
     "data": {
      "text/plain": [
       "1024"
      ]
     },
     "execution_count": 14,
     "metadata": {},
     "output_type": "execute_result"
    }
   ],
   "source": []
  },
  {
   "cell_type": "code",
   "execution_count": null,
   "metadata": {
    "collapsed": true
   },
   "outputs": [],
   "source": []
  }
 ],
 "metadata": {
  "kernelspec": {
   "display_name": "Python 2",
   "language": "python",
   "name": "python2"
  },
  "language_info": {
   "codemirror_mode": {
    "name": "ipython",
    "version": 2
   },
   "file_extension": ".py",
   "mimetype": "text/x-python",
   "name": "python",
   "nbconvert_exporter": "python",
   "pygments_lexer": "ipython2",
   "version": "2.7.9"
  }
 },
 "nbformat": 4,
 "nbformat_minor": 0
}
