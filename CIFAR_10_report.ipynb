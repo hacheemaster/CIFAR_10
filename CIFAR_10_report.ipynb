{
 "cells": [
  {
   "cell_type": "markdown",
   "metadata": {},
   "source": [
    "#CIFAR-10: Object Recognition in Images Tutorial\n",
    "\n",
    "##Synopsis\n",
    "The CIFAR-10 dataset consists of 60,000 labeled images. Therea are a total of 10 classes and each image is 32x32 pixels. The original data can be found [here](https://www.cs.toronto.edu/~kriz/cifar.html). Alternatively, one can download a more friendly version from the Kaggle website located [here](https://www.kaggle.com/c/cifar-10). It was collected by Alex Krizhevsky, Vinod Nair, and Geoffrey Hinton [[1]](http://www.cs.toronto.edu/~kriz/learning-features-2009-TR.pdf). The objective of this tutorial is to accurately classify the 50,000 training png images via convoloutional neural nets and check the misclassification error against the test set of 10,000. If you are downloading the version from Kaggle please read the fine print. They have added 290,000 \"junk\" images to prevent hand-labeling. These are ignored during the scoring process. Therefore, we will be submitting ther results to the Kaggle leaderboard instead of manually calculating the error on the test set."
   ]
  },
  {
   "cell_type": "markdown",
   "metadata": {},
   "source": [
    "##Downloading and Loading Data\n",
    "1\\. Let's first download and unzip the training and testing datasets from Kaggle."
   ]
  },
  {
   "cell_type": "code",
   "execution_count": 31,
   "metadata": {
    "collapsed": true
   },
   "outputs": [],
   "source": [
    "from PIL import Image\n",
    "import sys\n",
    "import os\n",
    "import urllib\n",
    "import zipfile"
   ]
  },
  {
   "cell_type": "code",
   "execution_count": 50,
   "metadata": {
    "collapsed": true
   },
   "outputs": [],
   "source": [
    "#Need to test and fix this part before publishing (FIX ME!)\n",
    "def download_file(url):\n",
    "    # Split on the rightmost / and take everything on the right side of that\n",
    "    filename = url.rsplit('/', 1)[-1]\n",
    "    \n",
    "    #download file    \n",
    "    if not os.path.isfile(filename):\n",
    "        urllib.urlretrieve(url,filename)\n",
    "        \n",
    "        #unzip if it is a zip file\n",
    "        if url.find(\".7z\") > 0:\n",
    "            with zipfile.Zipfile(filename,\"r\") as z:\n",
    "                z.extractall()"
   ]
  },
  {
   "cell_type": "markdown",
   "metadata": {},
   "source": [
    "*Please be patient while the code below runs as you are downloading a large amount of data (~700MB).*"
   ]
  },
  {
   "cell_type": "code",
   "execution_count": 51,
   "metadata": {
    "collapsed": false
   },
   "outputs": [],
   "source": [
    "url_test = \"https://www.kaggle.com/c/cifar-10/download/test.7z\"\n",
    "url_train = \"https://www.kaggle.com/c/cifar-10/download/train.7z\"\n",
    "url_trainLabels = \"https://www.kaggle.com/c/cifar-10/download/trainLabels.csv\"\n",
    "download_file(url_test)\n",
    "download_file(url_train)\n",
    "download_file(url_trainLabels)"
   ]
  },
  {
   "cell_type": "markdown",
   "metadata": {},
   "source": [
    "2\\. We will convert the downloaded png files to csv by reading in the red-blue-green values with a helpful [script](https://github.com/chrispy645/kaggle-cifar10-extract/blob/master/getpx.py) created by Christopher Beckham."
   ]
  },
  {
   "cell_type": "markdown",
   "metadata": {},
   "source": [
    "  + Import necessary modules"
   ]
  },
  {
   "cell_type": "markdown",
   "metadata": {},
   "source": [
    "  * Read in training labels by splitting each row based on comma and selecting the second item in the returned list (i.e. the actual label)."
   ]
  },
  {
   "cell_type": "code",
   "execution_count": 4,
   "metadata": {
    "collapsed": true
   },
   "outputs": [],
   "source": [
    "labels = []\n",
    "f = open(\"trainLabels.csv\")\n",
    "for line in f:\n",
    "    labels.append( '\"' + line.rstrip().split(',')[1] + '\"' )\n",
    "f.close()"
   ]
  },
  {
   "cell_type": "markdown",
   "metadata": {},
   "source": [
    "  * Each image will contain 32x32 pixels. Create a list of column names to store the rgb value of each of those 32x32 pixels. "
   ]
  },
  {
   "cell_type": "code",
   "execution_count": 11,
   "metadata": {
    "collapsed": false
   },
   "outputs": [],
   "source": [
    "arr = []\n",
    "for i in range(0,32*32):\n",
    "    for j in ['r','g','b']:\n",
    "        arr.append('\"px' + j + str(i) + '\"')\n",
    "arr.append('\"class\"')\n",
    "#print \",\".join(arr)"
   ]
  },
  {
   "cell_type": "markdown",
   "metadata": {},
   "source": [
    "  * Read in the training data"
   ]
  },
  {
   "cell_type": "code",
   "execution_count": 16,
   "metadata": {
    "collapsed": false
   },
   "outputs": [],
   "source": [
    "for x in range(1, 2+1): #50000+1\n",
    "    im = Image.open('train/' + str(x) + '.png')\n",
    "\n",
    "    im\n"
   ]
  },
  {
   "cell_type": "code",
   "execution_count": 21,
   "metadata": {
    "collapsed": false
   },
   "outputs": [
    {
     "data": {
      "text/plain": [
       "'C:\\\\Users\\\\i55500\\\\Documents\\\\Kaggle\\\\CIFAR_10'"
      ]
     },
     "execution_count": 21,
     "metadata": {},
     "output_type": "execute_result"
    }
   ],
   "source": [
    "os.getcwd()"
   ]
  },
  {
   "cell_type": "code",
   "execution_count": null,
   "metadata": {
    "collapsed": true
   },
   "outputs": [],
   "source": []
  }
 ],
 "metadata": {
  "kernelspec": {
   "display_name": "Python 2",
   "language": "python",
   "name": "python2"
  },
  "language_info": {
   "codemirror_mode": {
    "name": "ipython",
    "version": 2
   },
   "file_extension": ".py",
   "mimetype": "text/x-python",
   "name": "python",
   "nbconvert_exporter": "python",
   "pygments_lexer": "ipython2",
   "version": "2.7.9"
  }
 },
 "nbformat": 4,
 "nbformat_minor": 0
}
